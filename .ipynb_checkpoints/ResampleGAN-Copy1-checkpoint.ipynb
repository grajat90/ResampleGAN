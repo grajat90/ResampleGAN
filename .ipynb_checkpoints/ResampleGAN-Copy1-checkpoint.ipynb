{
 "cells": [
  {
   "cell_type": "markdown",
   "metadata": {
    "id": "cGXpPjeAQ4M9"
   },
   "source": [
    "# MAIN JUPYTER NOTEBOOK FOR MINOR PROJECT\n",
    "1. Use tensorflow <b>2.3</b> for prototyping\n",
    "2. Use this link to refer to [docs](https://www.tensorflow.org/api_docs/python/tf/all_symbols) and this to refer to [tutorials](https://www.tensorflow.org/tutorials).\n",
    "3. Our github repo is [here](https://github.com/grajat90/ResampleGAN).\n",
    "\n",
    "\n",
    "## For quick reference:\n",
    "\n",
    "### Original Networks in SRGAN paper:\n",
    "\n",
    "<center>\n",
    "\n",
    "<img src=\"https://miro.medium.com/max/1400/1*T_vCYUgD8UygdMWlgV3ciw.png\" width = '60%' />\n",
    "\n",
    "</center>\n",
    "\n",
    "### Our network (change as needed):\n",
    "\n",
    "<center>\n",
    "\n",
    "<img src=\"https://camo.githubusercontent.com/ebd11f6dea8996adcb01132ccd0526e971f4b12b/68747470733a2f2f696d6775722e636f6d2f4a6a7a555958732e6a7067\" width = '60%'/>\n",
    "\n",
    "<img src=\"https://camo.githubusercontent.com/07e22e49a908fe6e243468d335a702854260db56/68747470733a2f2f696d6775722e636f6d2f316973696737432e6a7067\" width = '60%' />\n",
    "\n",
    "</center>\n",
    "\n",
    "---\n",
    "\n"
   ]
  },
  {
   "cell_type": "code",
   "execution_count": null,
   "metadata": {},
   "outputs": [],
   "source": [
    "import logging\n",
    "import sys\n",
    "logging.basicConfig(filename='./logs.log',\n",
    "            filemode='w',\n",
    "            level=logging.INFO)\n"
   ]
  },
  {
   "cell_type": "code",
   "execution_count": 1,
   "metadata": {
    "colab": {
     "base_uri": "https://localhost:8080/"
    },
    "id": "peOyep5pCQ_a",
    "outputId": "6ebfe02a-d142-4ffb-c90d-e0144e4acc71"
   },
   "outputs": [
    {
     "name": "stdout",
     "output_type": "stream",
     "text": [
      "Fri Nov 13 05:11:10 2020       \n",
      "+-----------------------------------------------------------------------------+\n",
      "| NVIDIA-SMI 455.32.00    Driver Version: 418.67       CUDA Version: 10.1     |\n",
      "|-------------------------------+----------------------+----------------------+\n",
      "| GPU  Name        Persistence-M| Bus-Id        Disp.A | Volatile Uncorr. ECC |\n",
      "| Fan  Temp  Perf  Pwr:Usage/Cap|         Memory-Usage | GPU-Util  Compute M. |\n",
      "|                               |                      |               MIG M. |\n",
      "|===============================+======================+======================|\n",
      "|   0  Tesla T4            Off  | 00000000:00:04.0 Off |                    0 |\n",
      "| N/A   60C    P8    11W /  70W |      0MiB / 15079MiB |      0%      Default |\n",
      "|                               |                      |                 ERR! |\n",
      "+-------------------------------+----------------------+----------------------+\n",
      "                                                                               \n",
      "+-----------------------------------------------------------------------------+\n",
      "| Processes:                                                                  |\n",
      "|  GPU   GI   CI        PID   Type   Process name                  GPU Memory |\n",
      "|        ID   ID                                                   Usage      |\n",
      "|=============================================================================|\n",
      "|  No running processes found                                                 |\n",
      "+-----------------------------------------------------------------------------+\n"
     ]
    }
   ],
   "source": []
  },
  {
   "cell_type": "code",
   "execution_count": 2,
   "metadata": {
    "colab": {
     "base_uri": "https://localhost:8080/"
    },
    "id": "K25MgJqVlD8h",
    "outputId": "ed350514-81c6-4e61-ae52-af64c2782628"
   },
   "outputs": [],
   "source": [
    "import os\n",
    "from tqdm.notebook import tqdm\n",
    "import matplotlib.pyplot as plt\n",
    "import tensorflow as tf\n",
    "import numpy as np\n",
    "import tensorflow_datasets as tfds\n",
    "from tensorflow.keras.activations import tanh\n",
    "from tensorflow.keras.layers import Conv2D, Conv2DTranspose, BatchNormalization, Add, PReLU, LeakyReLU, UpSampling2D, GlobalAveragePooling2D, Dense\n",
    "from tensorflow.keras.models import Model\n",
    "from tensorflow.keras.optimizers import Adam\n",
    "from tensorflow.keras.optimizers.schedules import PiecewiseConstantDecay\n",
    "from tensorflow.python.keras.applications.vgg19 import VGG19, preprocess_input as vgg19_preprocess"
   ]
  },
  {
   "cell_type": "code",
   "execution_count": 3,
   "metadata": {
    "id": "YjaqSDbm4V_r"
   },
   "outputs": [],
   "source": [
    "# resolver = tf.distribute.cluster_resolver.TPUClusterResolver(tpu='grpc://' + os.environ['COLAB_TPU_ADDR'])\n",
    "# tf.config.experimental_connect_to_cluster(resolver)\n",
    "# # This is the TPU initialization code that has to be at the beginning.\n",
    "# tf.tpu.experimental.initialize_tpu_system(resolver)\n",
    "# print(\"All devices: \", tf.config.list_logical_devices('TPU'))"
   ]
  },
  {
   "cell_type": "code",
   "execution_count": 4,
   "metadata": {
    "id": "7UDh9z9kX7uq"
   },
   "outputs": [],
   "source": [
    "# strategy = tf.distribute.TPUStrategy(resolver)"
   ]
  },
  {
   "cell_type": "code",
   "execution_count": null,
   "metadata": {
    "id": "yp4CgjC4p4C4"
   },
   "outputs": [],
   "source": [
    "# os.environ[\"GOOGLE_APPLICATION_CREDENTIALS\"] = '../google-auth.json'\n",
    "# storage_client = storage.Client()\n",
    "# buckets = list(storage_client.list_buckets())\n",
    "# print(buckets)"
   ]
  },
  {
   "cell_type": "code",
   "execution_count": 8,
   "metadata": {
    "colab": {
     "base_uri": "https://localhost:8080/"
    },
    "id": "Zh2w3fBa8wSZ",
    "outputId": "9941f92c-2bd1-46ea-e25d-231ef1a54f3d"
   },
   "outputs": [
    {
     "name": "stdout",
     "output_type": "stream",
     "text": [
      "800\n"
     ]
    }
   ],
   "source": [
    "(ds_train, ds_validation), info = tfds.load(\n",
    "    'div2k/bicubic_x4',\n",
    "    split=['train', 'validation'],\n",
    "    shuffle_files=True,\n",
    "    with_info = True,\n",
    "    try_gcs = True,\n",
    "    data_dir = './dataset'\n",
    ")\n",
    "print(len(ds_train))\n",
    "ds_train=ds_train.prefetch(512)\n",
    "ds_validation = ds_validation.prefetch(512)\n",
    "#ds_validation=ds_validation.as_numpy_iterator()"
   ]
  },
  {
   "cell_type": "code",
   "execution_count": 9,
   "metadata": {
    "colab": {
     "base_uri": "https://localhost:8080/"
    },
    "id": "lWkSVU3MwAIB",
    "outputId": "439b9fe9-dcf0-4e0e-dbc0-4a8474350b46"
   },
   "outputs": [
    {
     "data": {
      "text/plain": [
       "report_tensor_allocations_upon_oom: true"
      ]
     },
     "execution_count": 9,
     "metadata": {
      "tags": []
     },
     "output_type": "execute_result"
    }
   ],
   "source": [
    "tf.compat.v1.RunOptions(\n",
    "    report_tensor_allocations_upon_oom=True\n",
    ")\n",
    "#tf.config.run_functions_eagerly(False)"
   ]
  },
  {
   "cell_type": "code",
   "execution_count": 10,
   "metadata": {
    "id": "14tMYRialpDi"
   },
   "outputs": [],
   "source": [
    "def generator(momentum=0.8):\n",
    "  lr_in = tf.keras.Input(shape=(None,None,3))\n",
    "  hr_out = Conv2DTranspose(filters = 64, kernel_size = (9,9), padding='SAME')(lr_in)  #k9n64s1\n",
    "  hr_out = B = PReLU(shared_axes=[1, 2])(hr_out)\n",
    "  for i in range(5):\n",
    "    B_internal = B\n",
    "    for j in range(2):\n",
    "      B_internal = Conv2DTranspose(filters = 64, kernel_size = (3,3), padding='SAME')(B_internal) #k3n64s1\n",
    "      B_internal = BatchNormalization(momentum=momentum)(B_internal)\n",
    "      B_internal = PReLU(shared_axes=[1, 2])(B_internal)\n",
    "    B = Add()([B, B_internal])\n",
    "  B = Conv2DTranspose(filters = 64, kernel_size = (3,3), padding='SAME')(B) #k3n64s1\n",
    "  B = BatchNormalization(momentum=momentum)(B)\n",
    "  hr_out = Add()([hr_out, B])\n",
    "  for i in range(2):\n",
    "    hr_out = Conv2DTranspose(filters = 256, kernel_size = (3,3), padding = \"SAME\")(hr_out) #k3n256s1\n",
    "    hr_out = UpSampling2D(size=2)(hr_out)\n",
    "    hr_out = PReLU(shared_axes=[1, 2])(hr_out)\n",
    "\n",
    "  hr_out = Conv2DTranspose(filters = 3, kernel_size = (9,9), padding = \"SAME\")(hr_out) #k9n3s1\n",
    "  # hr_out = tanh(hr_out)\n",
    "  return Model(lr_in, hr_out, name=\"GAN_GEN\")"
   ]
  },
  {
   "cell_type": "code",
   "execution_count": 11,
   "metadata": {
    "id": "cOikwdgjOPGw"
   },
   "outputs": [],
   "source": [
    "def discriminator(momentum=0.8):\n",
    "  img_in = tf.keras.Input(shape = (None,None,3))\n",
    "  #k3n64s1\n",
    "  pred = Conv2D(filters = 64, kernel_size=(3,3), padding = \"SAME\")(img_in)\n",
    "  pred = LeakyReLU()(pred)\n",
    "\n",
    "  #k3n64s2\n",
    "  pred = Conv2D(filters=64, kernel_size=(3,3), strides=2, padding=\"VALID\")(pred)\n",
    "  pred = BatchNormalization(momentum=momentum)(pred)\n",
    "  pred = LeakyReLU()(pred)\n",
    "  \n",
    "  #k3n128s1\n",
    "  pred = Conv2D(filters=128, kernel_size=(3,3), strides=1, padding=\"SAME\")(pred)\n",
    "  pred = BatchNormalization(momentum=momentum)(pred)\n",
    "  pred = LeakyReLU()(pred)\n",
    "  \n",
    "  #k3n128s2\n",
    "  pred = Conv2D(filters=128, kernel_size=(3,3), strides=2, padding=\"VALID\")(pred)\n",
    "  pred = BatchNormalization(momentum=momentum)(pred)\n",
    "  pred = LeakyReLU()(pred)\n",
    "\n",
    "  #k3n256s1\n",
    "  pred = Conv2D(filters=256, kernel_size=(3,3), strides=1, padding=\"SAME\")(pred)\n",
    "  pred = BatchNormalization(momentum=momentum)(pred)\n",
    "  pred = LeakyReLU()(pred)\n",
    "\n",
    "  #k3n256s2\n",
    "  pred = Conv2D(filters=256, kernel_size=(3,3), strides=2, padding=\"VALID\")(pred)\n",
    "  pred = BatchNormalization(momentum=momentum)(pred)\n",
    "  pred = LeakyReLU()(pred)\n",
    "\n",
    "  #k3n512s1\n",
    "  pred = Conv2D(filters=512, kernel_size=(3,3), strides=1, padding=\"SAME\")(pred)\n",
    "  pred = BatchNormalization(momentum=momentum)(pred)\n",
    "  pred = LeakyReLU()(pred)\n",
    "\n",
    "  #k3n512s2\n",
    "  pred = Conv2D(filters=512, kernel_size=(3,3), strides=2, padding=\"VALID\")(pred)\n",
    "  pred = BatchNormalization(momentum=momentum)(pred)\n",
    "  pred = LeakyReLU()(pred)\n",
    "\n",
    "  #avoiding dense layer for dimensional invariance\n",
    "  pred = Conv2D(filters=1, kernel_size=3, padding=\"SAME\")(pred)\n",
    "\n",
    "  return Model(img_in, pred, name=\"GAN_DISC\")"
   ]
  },
  {
   "cell_type": "code",
   "execution_count": 12,
   "metadata": {
    "colab": {
     "base_uri": "https://localhost:8080/"
    },
    "id": "eVO5obQJQkBt",
    "outputId": "3f678025-14a7-4df7-9fba-5768d3bb1944"
   },
   "outputs": [
    {
     "name": "stdout",
     "output_type": "stream",
     "text": [
      "Downloading data from https://storage.googleapis.com/tensorflow/keras-applications/vgg19/vgg19_weights_tf_dim_ordering_tf_kernels_notop.h5\n",
      "80142336/80134624 [==============================] - 0s 0us/step\n"
     ]
    }
   ],
   "source": [
    "# with strategy.scope():\n",
    "gen_model = generator(0.5)\n",
    "disc_model = discriminator(0.5)\n",
    "gen_optimizer = Adam(learning_rate=1e-4)\n",
    "disc_optimizer = Adam(learning_rate=1e-4)\n",
    "bce = tf.keras.losses.BinaryCrossentropy()\n",
    "mse = tf.keras.losses.MeanSquaredError()\n",
    "def vgg():\n",
    "    _ = VGG19(input_shape=(None, None, 3), include_top=False)\n",
    "    return Model(_.input, _.layers[20].output)\n",
    "vgg_model = vgg()\n",
    "\n",
    "\n",
    "def vgg_loss(true_image, fake_image):\n",
    "  true_image = vgg19_preprocess(true_image)\n",
    "  fake_image = vgg19_preprocess(fake_image)\n",
    "  true_features = vgg_model(true_image)\n",
    "  fake_features = vgg_model(fake_image)\n",
    "  mseError = mse(true_features, fake_features)\n",
    "  return mseError\n",
    "\n",
    "\n",
    "def discLoss(true_output, fake_output):\n",
    "  disc_fake_loss = bce(tf.zeros_like(fake_output), fake_output)\n",
    "  disc_true_loss = bce(tf.ones_like(true_output), true_output)\n",
    "  return disc_fake_loss + disc_true_loss\n",
    "\n",
    "\n",
    "def genLoss(fake_output):\n",
    "  gen_loss = bce(tf.ones_like(fake_output), fake_output)\n",
    "  return gen_loss\n",
    "\n",
    "\n",
    "def train_step(lr, hr):\n",
    "  #with tf.device('/gpu:0'):\n",
    "  with tf.GradientTape() as gen_tape, tf.GradientTape() as disc_tape:\n",
    "    lr = tf.cast(lr, tf.float32)\n",
    "    hr = tf.cast(hr, tf.float32)\n",
    "    hr_generated = gen_model(lr, training=True)\n",
    "    fake_output = disc_model(hr_generated, training=True)\n",
    "    real_output = disc_model(hr, training = True)\n",
    "    content_loss = vgg_loss(hr, hr_generated)\n",
    "    disc_loss = discLoss(real_output, fake_output)\n",
    "    gen_loss = content_loss + genLoss(fake_output)*1e-3\n",
    "\n",
    "  gen_gradients = gen_tape.gradient(gen_loss, gen_model.trainable_variables)\n",
    "  disc_gradients = disc_tape.gradient(disc_loss, disc_model.trainable_variables)\n",
    "  gen_optimizer.apply_gradients(zip(gen_gradients, gen_model.trainable_variables))\n",
    "  disc_optimizer.apply_gradients(zip(disc_gradients, disc_model.trainable_variables))\n",
    "\n",
    "  return disc_loss, gen_loss"
   ]
  },
  {
   "cell_type": "code",
   "execution_count": 13,
   "metadata": {
    "id": "e9qxLg3uSNsq"
   },
   "outputs": [],
   "source": [
    "try:\n",
    "  load_gen = gen_model.load_weights(\"./chkpt/GEN\")\n",
    "  load_disc = disc_model.load_weights(\"./chkpt/DISC\")\n",
    "  load_gen.assert_consumed()\n",
    "  load_gen.assert_consumed()\n",
    "except:\n",
    "  logging.info(\"Cannot Load model weight - either running for first time or data/path in not proper format\")"
   ]
  },
  {
   "cell_type": "code",
   "execution_count": null,
   "metadata": {
    "colab": {
     "base_uri": "https://localhost:8080/",
     "height": 719,
     "referenced_widgets": [
      "1994831a8de448d79cdf6d1759724a8f",
      "2f39162eedb7455b83674b8b0f6f8066",
      "c1cc8a018e894eceb769610f693b224c",
      "0a4a417a09f44a65862ba335ebbd9a40",
      "16be75d42d9d4ab38981a1019ad50635",
      "ab535b1ad73c41e5bc4130cc8da46c79",
      "4657c3ac914e4745a6c52e27f8832df4",
      "53fd1e8a3a8e469689083e1b2362dc19",
      "227b8c6f03754795ad41b3e5d52f7be4",
      "9bd41f1dd2744db182481afd3356432c",
      "b3fa66e3aeae4b5fac98db52e0e0c366",
      "98d4464a0e3041f7981017b92f5b5dd3",
      "880ae452309849899e2b6fa3c2a81c84",
      "ebe7697c6af34cfc84e52ee512355fd5",
      "5f3cd5b36cc54acdbaf2905f0bb59d11",
      "98c1533ee6d445b4a9dc93fa91016de5",
      "a1e984df221b4d74bb62d360bf4be6b1",
      "e748e64a8fa341a7a3349f79d25e86b0",
      "a83ffd8d0591477c95c7bec621c124fb",
      "5f3d20a612f74241bcf9c2c7f105b14b",
      "0388b6a6ccc1483e9f50d9dbb6d36646",
      "b928c11af1e54219ad084756b346af29",
      "87a34a91afa84a32bb78b6aa19b775c5",
      "82e8f70e80ee4351a052f0be1be0aa34",
      "6881dbbcc42d4946bb815a7a7058cffb",
      "d9ee2cd45b584eb7ac0dd31453b95430",
      "ecf22e7ed07445d9beab1ae7f9a84e8a",
      "a17c92b447eb45ccb7f6bde322cc16ad",
      "c7b7ed1f2a3f4006b2e4bb1cdd5df15d",
      "8c78bae6020c4437a5092442b5c6a199",
      "f9e38f051f9940c1bfc1d33e359a9273",
      "79ec26a155984919a04b47033f2b9b13",
      "006229029ed442fabac670ad28b034f8",
      "1259caaef90347c8a6031aa83f7754e1",
      "64cf152dbba54efaa43ffe5f0b090760",
      "2b3678b89ca7495db3f45504b4e6fbe6",
      "904a7f7b0fc540349681395b728b566b",
      "c1bef6c44d404518b4d4bf23c71184eb",
      "46ce322416204409a2004cb74fe0cae5",
      "86a7a72e8ccb4d5c88dcfcd21e29c9db",
      "98371a62cabb42bd95bb18822edbca6b",
      "517642c35bd5467ab48f84a1e16bb02d",
      "3b2e97d6aacf49f9a11ee92c14feb008",
      "116abb11d37843a8bb711a92207b8251",
      "9156e1c6e003461c9ad51aec89fd330b",
      "390a884072614a0dbd3db9ae74cee1dd",
      "577bc4cc402d4745a52743e6788e3ff8",
      "3bc67de0b4634cb1b2d895deba5e4b15"
     ]
    },
    "id": "aGP8fvC0h9o5",
    "outputId": "e8d344b1-8f6f-4cf0-e72e-71aa0712633d"
   },
   "outputs": [
    {
     "data": {
      "application/vnd.jupyter.widget-view+json": {
       "model_id": "1994831a8de448d79cdf6d1759724a8f",
       "version_major": 2,
       "version_minor": 0
      },
      "text/plain": [
       "HBox(children=(FloatProgress(value=0.0), HTML(value='')))"
      ]
     },
     "metadata": {
      "tags": []
     },
     "output_type": "display_data"
    },
    {
     "name": "stdout",
     "output_type": "stream",
     "text": [
      "========================================\n",
      "Epoch - 1\n"
     ]
    },
    {
     "data": {
      "application/vnd.jupyter.widget-view+json": {
       "model_id": "227b8c6f03754795ad41b3e5d52f7be4",
       "version_major": 2,
       "version_minor": 0
      },
      "text/plain": [
       "HBox(children=(FloatProgress(value=0.0, max=800.0), HTML(value='')))"
      ]
     },
     "metadata": {
      "tags": []
     },
     "output_type": "display_data"
    },
    {
     "name": "stdout",
     "output_type": "stream",
     "text": [
      "\n",
      "14.46017837524414 - Discriminator Loss \n",
      " 0.014227785170078278 - Generator loss\n",
      "========================================\n",
      "\n",
      "========================================\n",
      "Epoch - 2\n"
     ]
    },
    {
     "data": {
      "application/vnd.jupyter.widget-view+json": {
       "model_id": "a1e984df221b4d74bb62d360bf4be6b1",
       "version_major": 2,
       "version_minor": 0
      },
      "text/plain": [
       "HBox(children=(FloatProgress(value=0.0, max=800.0), HTML(value='')))"
      ]
     },
     "metadata": {
      "tags": []
     },
     "output_type": "display_data"
    },
    {
     "name": "stdout",
     "output_type": "stream",
     "text": [
      "\n",
      "13.917458534240723 - Discriminator Loss \n",
      " 0.013741404749453068 - Generator loss\n",
      "========================================\n",
      "\n",
      "========================================\n",
      "Epoch - 3\n"
     ]
    },
    {
     "data": {
      "application/vnd.jupyter.widget-view+json": {
       "model_id": "6881dbbcc42d4946bb815a7a7058cffb",
       "version_major": 2,
       "version_minor": 0
      },
      "text/plain": [
       "HBox(children=(FloatProgress(value=0.0, max=800.0), HTML(value='')))"
      ]
     },
     "metadata": {
      "tags": []
     },
     "output_type": "display_data"
    },
    {
     "name": "stdout",
     "output_type": "stream",
     "text": [
      "\n",
      "12.937475204467773 - Discriminator Loss \n",
      " 0.01890610158443451 - Generator loss\n",
      "========================================\n",
      "\n",
      "========================================\n",
      "Epoch - 4\n"
     ]
    },
    {
     "data": {
      "application/vnd.jupyter.widget-view+json": {
       "model_id": "006229029ed442fabac670ad28b034f8",
       "version_major": 2,
       "version_minor": 0
      },
      "text/plain": [
       "HBox(children=(FloatProgress(value=0.0, max=800.0), HTML(value='')))"
      ]
     },
     "metadata": {
      "tags": []
     },
     "output_type": "display_data"
    },
    {
     "name": "stdout",
     "output_type": "stream",
     "text": [
      "\n",
      "13.395301818847656 - Discriminator Loss \n",
      " 0.017174672335386276 - Generator loss\n",
      "========================================\n",
      "\n",
      "========================================\n",
      "Epoch - 5\n"
     ]
    },
    {
     "data": {
      "application/vnd.jupyter.widget-view+json": {
       "model_id": "98371a62cabb42bd95bb18822edbca6b",
       "version_major": 2,
       "version_minor": 0
      },
      "text/plain": [
       "HBox(children=(FloatProgress(value=0.0, max=800.0), HTML(value='')))"
      ]
     },
     "metadata": {
      "tags": []
     },
     "output_type": "display_data"
    }
   ],
   "source": [
    "def rcrop(img):\n",
    "  (midx,midy) = img.shape[:2]\n",
    "  sizex = midx//4\n",
    "  sizey = midy//4\n",
    "  midx = midx//2\n",
    "  midy = midy//2\n",
    "  xstart = midx - (sizex//2) - 1\n",
    "  ystart = midy - (sizey//2) - 1\n",
    "  return img[xstart:xstart+sizex, ystart:ystart+sizey, :]\n",
    "\n",
    "mod = os.getenv(\"model\")\n",
    "chkpt_path = \"./chkpt-\"+mod\n",
    "os.mkdir(chkpt_path)\n",
    "\n",
    "def train(epochs):\n",
    "  g_loss = None\n",
    "  d_loss = None\n",
    "  for epoch in tqdm(range(epochs)):\n",
    "    logging.info(f\"========================================\\nEpoch - {epoch+1}\")\n",
    "    gLoss = 0\n",
    "    dLoss = 0\n",
    "    for idx, elem in enumerate(tqdm(ds_train)):\n",
    "      hr = tf.cast(elem['hr'], tf.float32)\n",
    "      hr = rcrop(hr)\n",
    "      lr = tf.cast(elem['lr'], tf.float32)\n",
    "      lr = rcrop(lr)\n",
    "      hr = hr/255.0\n",
    "      lr = lr/255.0\n",
    "      d_loss, g_loss = train_step([lr], [hr])\n",
    "      gLoss += g_loss\n",
    "      dLoss += d_loss\n",
    "      # d_loss, g_loss = strategy.run(train_step, args=(lr, hr))\n",
    "    logging.info(f\"{dLoss/800} - Discriminator Loss \\n {gLoss/800} - Generator loss\\n========================================\\n\")\n",
    "    gen_model.save_weights(chkpt_path)\n",
    "    disc_model.save_weights(chkpt_path)\n",
    "  # for epoch in range(epochs):\n",
    "  #   print(\"Iter {}/{}, DIV2K BICUBIC 4X\".format(epoch, epochs))\n",
    "  #   for data_next in tqdm(ds_train):\n",
    "  #     hr = [data_next['hr']/255.0]\n",
    "  #     lr = [data_next['lr']/255.0]\n",
    "  #     d_loss, g_loss = train_step(lr, hr)\n",
    "      \n",
    "iters = int(os.getenv(\"iters\"))\n",
    "train(iters)"
   ]
  },
  {
   "cell_type": "code",
   "execution_count": 13,
   "metadata": {
    "colab": {
     "base_uri": "https://localhost:8080/",
     "height": 772
    },
    "id": "WfWl8lqDkK-0",
    "outputId": "733825b2-5542-4ac9-e0b0-990ab5540858"
   },
   "outputs": [
    {
     "data": {
      "image/png": "[encoded data removed]",
      "text/plain": [
       "<Figure size 432x288 with 1 Axes>"
      ]
     },
     "metadata": {
      "needs_background": "light",
      "tags": []
     },
     "output_type": "display_data"
    },
    {
     "data": {
      "image/png": "[encoded data removed]",
      "text/plain": [
       "<Figure size 432x288 with 1 Axes>"
      ]
     },
     "metadata": {
      "needs_background": "light",
      "tags": []
     },
     "output_type": "display_data"
    },
    {
     "data": {
      "image/png": "[encoded data removed]",
      "text/plain": [
       "<Figure size 432x288 with 1 Axes>"
      ]
     },
     "metadata": {
      "needs_background": "light",
      "tags": []
     },
     "output_type": "display_data"
    }
   ],
   "source": []
  },
  {
   "cell_type": "code",
   "execution_count": 21,
   "metadata": {
    "colab": {
     "base_uri": "https://localhost:8080/"
    },
    "id": "19R-jCwadriI",
    "outputId": "8727f731-8852-45a9-9931-68f4ea501b69"
   },
   "outputs": [
    {
     "name": "stdout",
     "output_type": "stream",
     "text": [
      "Requirement already satisfied: gcloud in /usr/local/lib/python3.6/dist-packages (0.18.3)\n",
      "Requirement already satisfied: httplib2>=0.9.1 in /usr/local/lib/python3.6/dist-packages (from gcloud) (0.17.4)\n",
      "Requirement already satisfied: oauth2client>=2.0.1 in /usr/local/lib/python3.6/dist-packages (from gcloud) (4.1.3)\n",
      "Requirement already satisfied: googleapis-common-protos in /usr/local/lib/python3.6/dist-packages (from gcloud) (1.52.0)\n",
      "Requirement already satisfied: six in /usr/local/lib/python3.6/dist-packages (from gcloud) (1.15.0)\n",
      "Requirement already satisfied: protobuf!=3.0.0.b2.post1,>=3.0.0b2 in /usr/local/lib/python3.6/dist-packages (from gcloud) (3.12.4)\n",
      "Requirement already satisfied: rsa>=3.1.4 in /usr/local/lib/python3.6/dist-packages (from oauth2client>=2.0.1->gcloud) (4.6)\n",
      "Requirement already satisfied: pyasn1-modules>=0.0.5 in /usr/local/lib/python3.6/dist-packages (from oauth2client>=2.0.1->gcloud) (0.2.8)\n",
      "Requirement already satisfied: pyasn1>=0.1.7 in /usr/local/lib/python3.6/dist-packages (from oauth2client>=2.0.1->gcloud) (0.4.8)\n",
      "Requirement already satisfied: setuptools in /usr/local/lib/python3.6/dist-packages (from protobuf!=3.0.0.b2.post1,>=3.0.0b2->gcloud) (50.3.2)\n"
     ]
    }
   ],
   "source": []
  },
  {
   "cell_type": "code",
   "execution_count": null,
   "metadata": {
    "id": "vGiSFbPPruzl"
   },
   "outputs": [],
   "source": []
  },
  {
   "cell_type": "markdown",
   "metadata": {
    "id": "QQm7yfQsQyZ8"
   },
   "source": []
  }
 ],
 "metadata": {
  "accelerator": "GPU",
  "colab": {
   "collapsed_sections": [],
   "name": "ResampleGAN.ipynb",
   "provenance": [],
   "toc_visible": true
  },
  "kernelspec": {
   "display_name": "Python 3",
   "language": "python",
   "name": "python3"
  },
  "language_info": {
   "codemirror_mode": {
    "name": "ipython",
    "version": 3
   },
   "file_extension": ".py",
   "mimetype": "text/x-python",
   "name": "python",
   "nbconvert_exporter": "python",
   "pygments_lexer": "ipython3",
   "version": "3.7.9"
  },
  "widgets": {
   "application/vnd.jupyter.widget-state+json": {
    "006229029ed442fabac670ad28b034f8": {
     "model_module": "@jupyter-widgets/controls",
     "model_name": "HBoxModel",
     "state": {
      "_dom_classes": [],
      "_model_module": "@jupyter-widgets/controls",
      "_model_module_version": "1.5.0",
      "_model_name": "HBoxModel",
      "_view_count": null,
      "_view_module": "@jupyter-widgets/controls",
      "_view_module_version": "1.5.0",
      "_view_name": "HBoxView",
      "box_style": "",
      "children": [
       "IPY_MODEL_64cf152dbba54efaa43ffe5f0b090760",
       "IPY_MODEL_2b3678b89ca7495db3f45504b4e6fbe6"
      ],
      "layout": "IPY_MODEL_1259caaef90347c8a6031aa83f7754e1"
     }
    },
    "0388b6a6ccc1483e9f50d9dbb6d36646": {
     "model_module": "@jupyter-widgets/controls",
     "model_name": "ProgressStyleModel",
     "state": {
      "_model_module": "@jupyter-widgets/controls",
      "_model_module_version": "1.5.0",
      "_model_name": "ProgressStyleModel",
      "_view_count": null,
      "_view_module": "@jupyter-widgets/base",
      "_view_module_version": "1.2.0",
      "_view_name": "StyleView",
      "bar_color": null,
      "description_width": "initial"
     }
    },
    "0a4a417a09f44a65862ba335ebbd9a40": {
     "model_module": "@jupyter-widgets/controls",
     "model_name": "HTMLModel",
     "state": {
      "_dom_classes": [],
      "_model_module": "@jupyter-widgets/controls",
      "_model_module_version": "1.5.0",
      "_model_name": "HTMLModel",
      "_view_count": null,
      "_view_module": "@jupyter-widgets/controls",
      "_view_module_version": "1.5.0",
      "_view_name": "HTMLView",
      "description": "",
      "description_tooltip": null,
      "layout": "IPY_MODEL_53fd1e8a3a8e469689083e1b2362dc19",
      "placeholder": "​",
      "style": "IPY_MODEL_4657c3ac914e4745a6c52e27f8832df4",
      "value": " 4/100 [34:05&lt;14:14:43, 534.20s/it]"
     }
    },
    "116abb11d37843a8bb711a92207b8251": {
     "model_module": "@jupyter-widgets/controls",
     "model_name": "HTMLModel",
     "state": {
      "_dom_classes": [],
      "_model_module": "@jupyter-widgets/controls",
      "_model_module_version": "1.5.0",
      "_model_name": "HTMLModel",
      "_view_count": null,
      "_view_module": "@jupyter-widgets/controls",
      "_view_module_version": "1.5.0",
      "_view_name": "HTMLView",
      "description": "",
      "description_tooltip": null,
      "layout": "IPY_MODEL_3bc67de0b4634cb1b2d895deba5e4b15",
      "placeholder": "​",
      "style": "IPY_MODEL_577bc4cc402d4745a52743e6788e3ff8",
      "value": " 299/800 [02:52&lt;04:35,  1.82it/s]"
     }
    },
    "1259caaef90347c8a6031aa83f7754e1": {
     "model_module": "@jupyter-widgets/base",
     "model_name": "LayoutModel",
     "state": {
      "_model_module": "@jupyter-widgets/base",
      "_model_module_version": "1.2.0",
      "_model_name": "LayoutModel",
      "_view_count": null,
      "_view_module": "@jupyter-widgets/base",
      "_view_module_version": "1.2.0",
      "_view_name": "LayoutView",
      "align_content": null,
      "align_items": null,
      "align_self": null,
      "border": null,
      "bottom": null,
      "display": null,
      "flex": null,
      "flex_flow": null,
      "grid_area": null,
      "grid_auto_columns": null,
      "grid_auto_flow": null,
      "grid_auto_rows": null,
      "grid_column": null,
      "grid_gap": null,
      "grid_row": null,
      "grid_template_areas": null,
      "grid_template_columns": null,
      "grid_template_rows": null,
      "height": null,
      "justify_content": null,
      "justify_items": null,
      "left": null,
      "margin": null,
      "max_height": null,
      "max_width": null,
      "min_height": null,
      "min_width": null,
      "object_fit": null,
      "object_position": null,
      "order": null,
      "overflow": null,
      "overflow_x": null,
      "overflow_y": null,
      "padding": null,
      "right": null,
      "top": null,
      "visibility": null,
      "width": null
     }
    },
    "16be75d42d9d4ab38981a1019ad50635": {
     "model_module": "@jupyter-widgets/controls",
     "model_name": "ProgressStyleModel",
     "state": {
      "_model_module": "@jupyter-widgets/controls",
      "_model_module_version": "1.5.0",
      "_model_name": "ProgressStyleModel",
      "_view_count": null,
      "_view_module": "@jupyter-widgets/base",
      "_view_module_version": "1.2.0",
      "_view_name": "StyleView",
      "bar_color": null,
      "description_width": "initial"
     }
    },
    "1994831a8de448d79cdf6d1759724a8f": {
     "model_module": "@jupyter-widgets/controls",
     "model_name": "HBoxModel",
     "state": {
      "_dom_classes": [],
      "_model_module": "@jupyter-widgets/controls",
      "_model_module_version": "1.5.0",
      "_model_name": "HBoxModel",
      "_view_count": null,
      "_view_module": "@jupyter-widgets/controls",
      "_view_module_version": "1.5.0",
      "_view_name": "HBoxView",
      "box_style": "",
      "children": [
       "IPY_MODEL_c1cc8a018e894eceb769610f693b224c",
       "IPY_MODEL_0a4a417a09f44a65862ba335ebbd9a40"
      ],
      "layout": "IPY_MODEL_2f39162eedb7455b83674b8b0f6f8066"
     }
    },
    "227b8c6f03754795ad41b3e5d52f7be4": {
     "model_module": "@jupyter-widgets/controls",
     "model_name": "HBoxModel",
     "state": {
      "_dom_classes": [],
      "_model_module": "@jupyter-widgets/controls",
      "_model_module_version": "1.5.0",
      "_model_name": "HBoxModel",
      "_view_count": null,
      "_view_module": "@jupyter-widgets/controls",
      "_view_module_version": "1.5.0",
      "_view_name": "HBoxView",
      "box_style": "",
      "children": [
       "IPY_MODEL_b3fa66e3aeae4b5fac98db52e0e0c366",
       "IPY_MODEL_98d4464a0e3041f7981017b92f5b5dd3"
      ],
      "layout": "IPY_MODEL_9bd41f1dd2744db182481afd3356432c"
     }
    },
    "2b3678b89ca7495db3f45504b4e6fbe6": {
     "model_module": "@jupyter-widgets/controls",
     "model_name": "HTMLModel",
     "state": {
      "_dom_classes": [],
      "_model_module": "@jupyter-widgets/controls",
      "_model_module_version": "1.5.0",
      "_model_name": "HTMLModel",
      "_view_count": null,
      "_view_module": "@jupyter-widgets/controls",
      "_view_module_version": "1.5.0",
      "_view_name": "HTMLView",
      "description": "",
      "description_tooltip": null,
      "layout": "IPY_MODEL_86a7a72e8ccb4d5c88dcfcd21e29c9db",
      "placeholder": "​",
      "style": "IPY_MODEL_46ce322416204409a2004cb74fe0cae5",
      "value": " 800/800 [09:05&lt;00:00,  1.47it/s]"
     }
    },
    "2f39162eedb7455b83674b8b0f6f8066": {
     "model_module": "@jupyter-widgets/base",
     "model_name": "LayoutModel",
     "state": {
      "_model_module": "@jupyter-widgets/base",
      "_model_module_version": "1.2.0",
      "_model_name": "LayoutModel",
      "_view_count": null,
      "_view_module": "@jupyter-widgets/base",
      "_view_module_version": "1.2.0",
      "_view_name": "LayoutView",
      "align_content": null,
      "align_items": null,
      "align_self": null,
      "border": null,
      "bottom": null,
      "display": null,
      "flex": null,
      "flex_flow": null,
      "grid_area": null,
      "grid_auto_columns": null,
      "grid_auto_flow": null,
      "grid_auto_rows": null,
      "grid_column": null,
      "grid_gap": null,
      "grid_row": null,
      "grid_template_areas": null,
      "grid_template_columns": null,
      "grid_template_rows": null,
      "height": null,
      "justify_content": null,
      "justify_items": null,
      "left": null,
      "margin": null,
      "max_height": null,
      "max_width": null,
      "min_height": null,
      "min_width": null,
      "object_fit": null,
      "object_position": null,
      "order": null,
      "overflow": null,
      "overflow_x": null,
      "overflow_y": null,
      "padding": null,
      "right": null,
      "top": null,
      "visibility": null,
      "width": null
     }
    },
    "390a884072614a0dbd3db9ae74cee1dd": {
     "model_module": "@jupyter-widgets/base",
     "model_name": "LayoutModel",
     "state": {
      "_model_module": "@jupyter-widgets/base",
      "_model_module_version": "1.2.0",
      "_model_name": "LayoutModel",
      "_view_count": null,
      "_view_module": "@jupyter-widgets/base",
      "_view_module_version": "1.2.0",
      "_view_name": "LayoutView",
      "align_content": null,
      "align_items": null,
      "align_self": null,
      "border": null,
      "bottom": null,
      "display": null,
      "flex": null,
      "flex_flow": null,
      "grid_area": null,
      "grid_auto_columns": null,
      "grid_auto_flow": null,
      "grid_auto_rows": null,
      "grid_column": null,
      "grid_gap": null,
      "grid_row": null,
      "grid_template_areas": null,
      "grid_template_columns": null,
      "grid_template_rows": null,
      "height": null,
      "justify_content": null,
      "justify_items": null,
      "left": null,
      "margin": null,
      "max_height": null,
      "max_width": null,
      "min_height": null,
      "min_width": null,
      "object_fit": null,
      "object_position": null,
      "order": null,
      "overflow": null,
      "overflow_x": null,
      "overflow_y": null,
      "padding": null,
      "right": null,
      "top": null,
      "visibility": null,
      "width": null
     }
    },
    "3b2e97d6aacf49f9a11ee92c14feb008": {
     "model_module": "@jupyter-widgets/controls",
     "model_name": "FloatProgressModel",
     "state": {
      "_dom_classes": [],
      "_model_module": "@jupyter-widgets/controls",
      "_model_module_version": "1.5.0",
      "_model_name": "FloatProgressModel",
      "_view_count": null,
      "_view_module": "@jupyter-widgets/controls",
      "_view_module_version": "1.5.0",
      "_view_name": "ProgressView",
      "bar_style": "",
      "description": " 37%",
      "description_tooltip": null,
      "layout": "IPY_MODEL_390a884072614a0dbd3db9ae74cee1dd",
      "max": 800,
      "min": 0,
      "orientation": "horizontal",
      "style": "IPY_MODEL_9156e1c6e003461c9ad51aec89fd330b",
      "value": 299
     }
    },
    "3bc67de0b4634cb1b2d895deba5e4b15": {
     "model_module": "@jupyter-widgets/base",
     "model_name": "LayoutModel",
     "state": {
      "_model_module": "@jupyter-widgets/base",
      "_model_module_version": "1.2.0",
      "_model_name": "LayoutModel",
      "_view_count": null,
      "_view_module": "@jupyter-widgets/base",
      "_view_module_version": "1.2.0",
      "_view_name": "LayoutView",
      "align_content": null,
      "align_items": null,
      "align_self": null,
      "border": null,
      "bottom": null,
      "display": null,
      "flex": null,
      "flex_flow": null,
      "grid_area": null,
      "grid_auto_columns": null,
      "grid_auto_flow": null,
      "grid_auto_rows": null,
      "grid_column": null,
      "grid_gap": null,
      "grid_row": null,
      "grid_template_areas": null,
      "grid_template_columns": null,
      "grid_template_rows": null,
      "height": null,
      "justify_content": null,
      "justify_items": null,
      "left": null,
      "margin": null,
      "max_height": null,
      "max_width": null,
      "min_height": null,
      "min_width": null,
      "object_fit": null,
      "object_position": null,
      "order": null,
      "overflow": null,
      "overflow_x": null,
      "overflow_y": null,
      "padding": null,
      "right": null,
      "top": null,
      "visibility": null,
      "width": null
     }
    },
    "4657c3ac914e4745a6c52e27f8832df4": {
     "model_module": "@jupyter-widgets/controls",
     "model_name": "DescriptionStyleModel",
     "state": {
      "_model_module": "@jupyter-widgets/controls",
      "_model_module_version": "1.5.0",
      "_model_name": "DescriptionStyleModel",
      "_view_count": null,
      "_view_module": "@jupyter-widgets/base",
      "_view_module_version": "1.2.0",
      "_view_name": "StyleView",
      "description_width": ""
     }
    },
    "46ce322416204409a2004cb74fe0cae5": {
     "model_module": "@jupyter-widgets/controls",
     "model_name": "DescriptionStyleModel",
     "state": {
      "_model_module": "@jupyter-widgets/controls",
      "_model_module_version": "1.5.0",
      "_model_name": "DescriptionStyleModel",
      "_view_count": null,
      "_view_module": "@jupyter-widgets/base",
      "_view_module_version": "1.2.0",
      "_view_name": "StyleView",
      "description_width": ""
     }
    },
    "517642c35bd5467ab48f84a1e16bb02d": {
     "model_module": "@jupyter-widgets/base",
     "model_name": "LayoutModel",
     "state": {
      "_model_module": "@jupyter-widgets/base",
      "_model_module_version": "1.2.0",
      "_model_name": "LayoutModel",
      "_view_count": null,
      "_view_module": "@jupyter-widgets/base",
      "_view_module_version": "1.2.0",
      "_view_name": "LayoutView",
      "align_content": null,
      "align_items": null,
      "align_self": null,
      "border": null,
      "bottom": null,
      "display": null,
      "flex": null,
      "flex_flow": null,
      "grid_area": null,
      "grid_auto_columns": null,
      "grid_auto_flow": null,
      "grid_auto_rows": null,
      "grid_column": null,
      "grid_gap": null,
      "grid_row": null,
      "grid_template_areas": null,
      "grid_template_columns": null,
      "grid_template_rows": null,
      "height": null,
      "justify_content": null,
      "justify_items": null,
      "left": null,
      "margin": null,
      "max_height": null,
      "max_width": null,
      "min_height": null,
      "min_width": null,
      "object_fit": null,
      "object_position": null,
      "order": null,
      "overflow": null,
      "overflow_x": null,
      "overflow_y": null,
      "padding": null,
      "right": null,
      "top": null,
      "visibility": null,
      "width": null
     }
    },
    "53fd1e8a3a8e469689083e1b2362dc19": {
     "model_module": "@jupyter-widgets/base",
     "model_name": "LayoutModel",
     "state": {
      "_model_module": "@jupyter-widgets/base",
      "_model_module_version": "1.2.0",
      "_model_name": "LayoutModel",
      "_view_count": null,
      "_view_module": "@jupyter-widgets/base",
      "_view_module_version": "1.2.0",
      "_view_name": "LayoutView",
      "align_content": null,
      "align_items": null,
      "align_self": null,
      "border": null,
      "bottom": null,
      "display": null,
      "flex": null,
      "flex_flow": null,
      "grid_area": null,
      "grid_auto_columns": null,
      "grid_auto_flow": null,
      "grid_auto_rows": null,
      "grid_column": null,
      "grid_gap": null,
      "grid_row": null,
      "grid_template_areas": null,
      "grid_template_columns": null,
      "grid_template_rows": null,
      "height": null,
      "justify_content": null,
      "justify_items": null,
      "left": null,
      "margin": null,
      "max_height": null,
      "max_width": null,
      "min_height": null,
      "min_width": null,
      "object_fit": null,
      "object_position": null,
      "order": null,
      "overflow": null,
      "overflow_x": null,
      "overflow_y": null,
      "padding": null,
      "right": null,
      "top": null,
      "visibility": null,
      "width": null
     }
    },
    "577bc4cc402d4745a52743e6788e3ff8": {
     "model_module": "@jupyter-widgets/controls",
     "model_name": "DescriptionStyleModel",
     "state": {
      "_model_module": "@jupyter-widgets/controls",
      "_model_module_version": "1.5.0",
      "_model_name": "DescriptionStyleModel",
      "_view_count": null,
      "_view_module": "@jupyter-widgets/base",
      "_view_module_version": "1.2.0",
      "_view_name": "StyleView",
      "description_width": ""
     }
    },
    "5f3cd5b36cc54acdbaf2905f0bb59d11": {
     "model_module": "@jupyter-widgets/controls",
     "model_name": "DescriptionStyleModel",
     "state": {
      "_model_module": "@jupyter-widgets/controls",
      "_model_module_version": "1.5.0",
      "_model_name": "DescriptionStyleModel",
      "_view_count": null,
      "_view_module": "@jupyter-widgets/base",
      "_view_module_version": "1.2.0",
      "_view_name": "StyleView",
      "description_width": ""
     }
    },
    "5f3d20a612f74241bcf9c2c7f105b14b": {
     "model_module": "@jupyter-widgets/controls",
     "model_name": "HTMLModel",
     "state": {
      "_dom_classes": [],
      "_model_module": "@jupyter-widgets/controls",
      "_model_module_version": "1.5.0",
      "_model_name": "HTMLModel",
      "_view_count": null,
      "_view_module": "@jupyter-widgets/controls",
      "_view_module_version": "1.5.0",
      "_view_name": "HTMLView",
      "description": "",
      "description_tooltip": null,
      "layout": "IPY_MODEL_82e8f70e80ee4351a052f0be1be0aa34",
      "placeholder": "​",
      "style": "IPY_MODEL_87a34a91afa84a32bb78b6aa19b775c5",
      "value": " 800/800 [08:16&lt;00:00,  1.61it/s]"
     }
    },
    "64cf152dbba54efaa43ffe5f0b090760": {
     "model_module": "@jupyter-widgets/controls",
     "model_name": "FloatProgressModel",
     "state": {
      "_dom_classes": [],
      "_model_module": "@jupyter-widgets/controls",
      "_model_module_version": "1.5.0",
      "_model_name": "FloatProgressModel",
      "_view_count": null,
      "_view_module": "@jupyter-widgets/controls",
      "_view_module_version": "1.5.0",
      "_view_name": "ProgressView",
      "bar_style": "success",
      "description": "100%",
      "description_tooltip": null,
      "layout": "IPY_MODEL_c1bef6c44d404518b4d4bf23c71184eb",
      "max": 800,
      "min": 0,
      "orientation": "horizontal",
      "style": "IPY_MODEL_904a7f7b0fc540349681395b728b566b",
      "value": 800
     }
    },
    "6881dbbcc42d4946bb815a7a7058cffb": {
     "model_module": "@jupyter-widgets/controls",
     "model_name": "HBoxModel",
     "state": {
      "_dom_classes": [],
      "_model_module": "@jupyter-widgets/controls",
      "_model_module_version": "1.5.0",
      "_model_name": "HBoxModel",
      "_view_count": null,
      "_view_module": "@jupyter-widgets/controls",
      "_view_module_version": "1.5.0",
      "_view_name": "HBoxView",
      "box_style": "",
      "children": [
       "IPY_MODEL_ecf22e7ed07445d9beab1ae7f9a84e8a",
       "IPY_MODEL_a17c92b447eb45ccb7f6bde322cc16ad"
      ],
      "layout": "IPY_MODEL_d9ee2cd45b584eb7ac0dd31453b95430"
     }
    },
    "79ec26a155984919a04b47033f2b9b13": {
     "model_module": "@jupyter-widgets/base",
     "model_name": "LayoutModel",
     "state": {
      "_model_module": "@jupyter-widgets/base",
      "_model_module_version": "1.2.0",
      "_model_name": "LayoutModel",
      "_view_count": null,
      "_view_module": "@jupyter-widgets/base",
      "_view_module_version": "1.2.0",
      "_view_name": "LayoutView",
      "align_content": null,
      "align_items": null,
      "align_self": null,
      "border": null,
      "bottom": null,
      "display": null,
      "flex": null,
      "flex_flow": null,
      "grid_area": null,
      "grid_auto_columns": null,
      "grid_auto_flow": null,
      "grid_auto_rows": null,
      "grid_column": null,
      "grid_gap": null,
      "grid_row": null,
      "grid_template_areas": null,
      "grid_template_columns": null,
      "grid_template_rows": null,
      "height": null,
      "justify_content": null,
      "justify_items": null,
      "left": null,
      "margin": null,
      "max_height": null,
      "max_width": null,
      "min_height": null,
      "min_width": null,
      "object_fit": null,
      "object_position": null,
      "order": null,
      "overflow": null,
      "overflow_x": null,
      "overflow_y": null,
      "padding": null,
      "right": null,
      "top": null,
      "visibility": null,
      "width": null
     }
    },
    "82e8f70e80ee4351a052f0be1be0aa34": {
     "model_module": "@jupyter-widgets/base",
     "model_name": "LayoutModel",
     "state": {
      "_model_module": "@jupyter-widgets/base",
      "_model_module_version": "1.2.0",
      "_model_name": "LayoutModel",
      "_view_count": null,
      "_view_module": "@jupyter-widgets/base",
      "_view_module_version": "1.2.0",
      "_view_name": "LayoutView",
      "align_content": null,
      "align_items": null,
      "align_self": null,
      "border": null,
      "bottom": null,
      "display": null,
      "flex": null,
      "flex_flow": null,
      "grid_area": null,
      "grid_auto_columns": null,
      "grid_auto_flow": null,
      "grid_auto_rows": null,
      "grid_column": null,
      "grid_gap": null,
      "grid_row": null,
      "grid_template_areas": null,
      "grid_template_columns": null,
      "grid_template_rows": null,
      "height": null,
      "justify_content": null,
      "justify_items": null,
      "left": null,
      "margin": null,
      "max_height": null,
      "max_width": null,
      "min_height": null,
      "min_width": null,
      "object_fit": null,
      "object_position": null,
      "order": null,
      "overflow": null,
      "overflow_x": null,
      "overflow_y": null,
      "padding": null,
      "right": null,
      "top": null,
      "visibility": null,
      "width": null
     }
    },
    "86a7a72e8ccb4d5c88dcfcd21e29c9db": {
     "model_module": "@jupyter-widgets/base",
     "model_name": "LayoutModel",
     "state": {
      "_model_module": "@jupyter-widgets/base",
      "_model_module_version": "1.2.0",
      "_model_name": "LayoutModel",
      "_view_count": null,
      "_view_module": "@jupyter-widgets/base",
      "_view_module_version": "1.2.0",
      "_view_name": "LayoutView",
      "align_content": null,
      "align_items": null,
      "align_self": null,
      "border": null,
      "bottom": null,
      "display": null,
      "flex": null,
      "flex_flow": null,
      "grid_area": null,
      "grid_auto_columns": null,
      "grid_auto_flow": null,
      "grid_auto_rows": null,
      "grid_column": null,
      "grid_gap": null,
      "grid_row": null,
      "grid_template_areas": null,
      "grid_template_columns": null,
      "grid_template_rows": null,
      "height": null,
      "justify_content": null,
      "justify_items": null,
      "left": null,
      "margin": null,
      "max_height": null,
      "max_width": null,
      "min_height": null,
      "min_width": null,
      "object_fit": null,
      "object_position": null,
      "order": null,
      "overflow": null,
      "overflow_x": null,
      "overflow_y": null,
      "padding": null,
      "right": null,
      "top": null,
      "visibility": null,
      "width": null
     }
    },
    "87a34a91afa84a32bb78b6aa19b775c5": {
     "model_module": "@jupyter-widgets/controls",
     "model_name": "DescriptionStyleModel",
     "state": {
      "_model_module": "@jupyter-widgets/controls",
      "_model_module_version": "1.5.0",
      "_model_name": "DescriptionStyleModel",
      "_view_count": null,
      "_view_module": "@jupyter-widgets/base",
      "_view_module_version": "1.2.0",
      "_view_name": "StyleView",
      "description_width": ""
     }
    },
    "880ae452309849899e2b6fa3c2a81c84": {
     "model_module": "@jupyter-widgets/controls",
     "model_name": "ProgressStyleModel",
     "state": {
      "_model_module": "@jupyter-widgets/controls",
      "_model_module_version": "1.5.0",
      "_model_name": "ProgressStyleModel",
      "_view_count": null,
      "_view_module": "@jupyter-widgets/base",
      "_view_module_version": "1.2.0",
      "_view_name": "StyleView",
      "bar_color": null,
      "description_width": "initial"
     }
    },
    "8c78bae6020c4437a5092442b5c6a199": {
     "model_module": "@jupyter-widgets/base",
     "model_name": "LayoutModel",
     "state": {
      "_model_module": "@jupyter-widgets/base",
      "_model_module_version": "1.2.0",
      "_model_name": "LayoutModel",
      "_view_count": null,
      "_view_module": "@jupyter-widgets/base",
      "_view_module_version": "1.2.0",
      "_view_name": "LayoutView",
      "align_content": null,
      "align_items": null,
      "align_self": null,
      "border": null,
      "bottom": null,
      "display": null,
      "flex": null,
      "flex_flow": null,
      "grid_area": null,
      "grid_auto_columns": null,
      "grid_auto_flow": null,
      "grid_auto_rows": null,
      "grid_column": null,
      "grid_gap": null,
      "grid_row": null,
      "grid_template_areas": null,
      "grid_template_columns": null,
      "grid_template_rows": null,
      "height": null,
      "justify_content": null,
      "justify_items": null,
      "left": null,
      "margin": null,
      "max_height": null,
      "max_width": null,
      "min_height": null,
      "min_width": null,
      "object_fit": null,
      "object_position": null,
      "order": null,
      "overflow": null,
      "overflow_x": null,
      "overflow_y": null,
      "padding": null,
      "right": null,
      "top": null,
      "visibility": null,
      "width": null
     }
    },
    "904a7f7b0fc540349681395b728b566b": {
     "model_module": "@jupyter-widgets/controls",
     "model_name": "ProgressStyleModel",
     "state": {
      "_model_module": "@jupyter-widgets/controls",
      "_model_module_version": "1.5.0",
      "_model_name": "ProgressStyleModel",
      "_view_count": null,
      "_view_module": "@jupyter-widgets/base",
      "_view_module_version": "1.2.0",
      "_view_name": "StyleView",
      "bar_color": null,
      "description_width": "initial"
     }
    },
    "9156e1c6e003461c9ad51aec89fd330b": {
     "model_module": "@jupyter-widgets/controls",
     "model_name": "ProgressStyleModel",
     "state": {
      "_model_module": "@jupyter-widgets/controls",
      "_model_module_version": "1.5.0",
      "_model_name": "ProgressStyleModel",
      "_view_count": null,
      "_view_module": "@jupyter-widgets/base",
      "_view_module_version": "1.2.0",
      "_view_name": "StyleView",
      "bar_color": null,
      "description_width": "initial"
     }
    },
    "98371a62cabb42bd95bb18822edbca6b": {
     "model_module": "@jupyter-widgets/controls",
     "model_name": "HBoxModel",
     "state": {
      "_dom_classes": [],
      "_model_module": "@jupyter-widgets/controls",
      "_model_module_version": "1.5.0",
      "_model_name": "HBoxModel",
      "_view_count": null,
      "_view_module": "@jupyter-widgets/controls",
      "_view_module_version": "1.5.0",
      "_view_name": "HBoxView",
      "box_style": "",
      "children": [
       "IPY_MODEL_3b2e97d6aacf49f9a11ee92c14feb008",
       "IPY_MODEL_116abb11d37843a8bb711a92207b8251"
      ],
      "layout": "IPY_MODEL_517642c35bd5467ab48f84a1e16bb02d"
     }
    },
    "98c1533ee6d445b4a9dc93fa91016de5": {
     "model_module": "@jupyter-widgets/base",
     "model_name": "LayoutModel",
     "state": {
      "_model_module": "@jupyter-widgets/base",
      "_model_module_version": "1.2.0",
      "_model_name": "LayoutModel",
      "_view_count": null,
      "_view_module": "@jupyter-widgets/base",
      "_view_module_version": "1.2.0",
      "_view_name": "LayoutView",
      "align_content": null,
      "align_items": null,
      "align_self": null,
      "border": null,
      "bottom": null,
      "display": null,
      "flex": null,
      "flex_flow": null,
      "grid_area": null,
      "grid_auto_columns": null,
      "grid_auto_flow": null,
      "grid_auto_rows": null,
      "grid_column": null,
      "grid_gap": null,
      "grid_row": null,
      "grid_template_areas": null,
      "grid_template_columns": null,
      "grid_template_rows": null,
      "height": null,
      "justify_content": null,
      "justify_items": null,
      "left": null,
      "margin": null,
      "max_height": null,
      "max_width": null,
      "min_height": null,
      "min_width": null,
      "object_fit": null,
      "object_position": null,
      "order": null,
      "overflow": null,
      "overflow_x": null,
      "overflow_y": null,
      "padding": null,
      "right": null,
      "top": null,
      "visibility": null,
      "width": null
     }
    },
    "98d4464a0e3041f7981017b92f5b5dd3": {
     "model_module": "@jupyter-widgets/controls",
     "model_name": "HTMLModel",
     "state": {
      "_dom_classes": [],
      "_model_module": "@jupyter-widgets/controls",
      "_model_module_version": "1.5.0",
      "_model_name": "HTMLModel",
      "_view_count": null,
      "_view_module": "@jupyter-widgets/controls",
      "_view_module_version": "1.5.0",
      "_view_name": "HTMLView",
      "description": "",
      "description_tooltip": null,
      "layout": "IPY_MODEL_98c1533ee6d445b4a9dc93fa91016de5",
      "placeholder": "​",
      "style": "IPY_MODEL_5f3cd5b36cc54acdbaf2905f0bb59d11",
      "value": " 800/800 [13:50&lt;00:00,  1.04s/it]"
     }
    },
    "9bd41f1dd2744db182481afd3356432c": {
     "model_module": "@jupyter-widgets/base",
     "model_name": "LayoutModel",
     "state": {
      "_model_module": "@jupyter-widgets/base",
      "_model_module_version": "1.2.0",
      "_model_name": "LayoutModel",
      "_view_count": null,
      "_view_module": "@jupyter-widgets/base",
      "_view_module_version": "1.2.0",
      "_view_name": "LayoutView",
      "align_content": null,
      "align_items": null,
      "align_self": null,
      "border": null,
      "bottom": null,
      "display": null,
      "flex": null,
      "flex_flow": null,
      "grid_area": null,
      "grid_auto_columns": null,
      "grid_auto_flow": null,
      "grid_auto_rows": null,
      "grid_column": null,
      "grid_gap": null,
      "grid_row": null,
      "grid_template_areas": null,
      "grid_template_columns": null,
      "grid_template_rows": null,
      "height": null,
      "justify_content": null,
      "justify_items": null,
      "left": null,
      "margin": null,
      "max_height": null,
      "max_width": null,
      "min_height": null,
      "min_width": null,
      "object_fit": null,
      "object_position": null,
      "order": null,
      "overflow": null,
      "overflow_x": null,
      "overflow_y": null,
      "padding": null,
      "right": null,
      "top": null,
      "visibility": null,
      "width": null
     }
    },
    "a17c92b447eb45ccb7f6bde322cc16ad": {
     "model_module": "@jupyter-widgets/controls",
     "model_name": "HTMLModel",
     "state": {
      "_dom_classes": [],
      "_model_module": "@jupyter-widgets/controls",
      "_model_module_version": "1.5.0",
      "_model_name": "HTMLModel",
      "_view_count": null,
      "_view_module": "@jupyter-widgets/controls",
      "_view_module_version": "1.5.0",
      "_view_name": "HTMLView",
      "description": "",
      "description_tooltip": null,
      "layout": "IPY_MODEL_79ec26a155984919a04b47033f2b9b13",
      "placeholder": "​",
      "style": "IPY_MODEL_f9e38f051f9940c1bfc1d33e359a9273",
      "value": " 800/800 [09:35&lt;00:00,  1.39it/s]"
     }
    },
    "a1e984df221b4d74bb62d360bf4be6b1": {
     "model_module": "@jupyter-widgets/controls",
     "model_name": "HBoxModel",
     "state": {
      "_dom_classes": [],
      "_model_module": "@jupyter-widgets/controls",
      "_model_module_version": "1.5.0",
      "_model_name": "HBoxModel",
      "_view_count": null,
      "_view_module": "@jupyter-widgets/controls",
      "_view_module_version": "1.5.0",
      "_view_name": "HBoxView",
      "box_style": "",
      "children": [
       "IPY_MODEL_a83ffd8d0591477c95c7bec621c124fb",
       "IPY_MODEL_5f3d20a612f74241bcf9c2c7f105b14b"
      ],
      "layout": "IPY_MODEL_e748e64a8fa341a7a3349f79d25e86b0"
     }
    },
    "a83ffd8d0591477c95c7bec621c124fb": {
     "model_module": "@jupyter-widgets/controls",
     "model_name": "FloatProgressModel",
     "state": {
      "_dom_classes": [],
      "_model_module": "@jupyter-widgets/controls",
      "_model_module_version": "1.5.0",
      "_model_name": "FloatProgressModel",
      "_view_count": null,
      "_view_module": "@jupyter-widgets/controls",
      "_view_module_version": "1.5.0",
      "_view_name": "ProgressView",
      "bar_style": "success",
      "description": "100%",
      "description_tooltip": null,
      "layout": "IPY_MODEL_b928c11af1e54219ad084756b346af29",
      "max": 800,
      "min": 0,
      "orientation": "horizontal",
      "style": "IPY_MODEL_0388b6a6ccc1483e9f50d9dbb6d36646",
      "value": 800
     }
    },
    "ab535b1ad73c41e5bc4130cc8da46c79": {
     "model_module": "@jupyter-widgets/base",
     "model_name": "LayoutModel",
     "state": {
      "_model_module": "@jupyter-widgets/base",
      "_model_module_version": "1.2.0",
      "_model_name": "LayoutModel",
      "_view_count": null,
      "_view_module": "@jupyter-widgets/base",
      "_view_module_version": "1.2.0",
      "_view_name": "LayoutView",
      "align_content": null,
      "align_items": null,
      "align_self": null,
      "border": null,
      "bottom": null,
      "display": null,
      "flex": null,
      "flex_flow": null,
      "grid_area": null,
      "grid_auto_columns": null,
      "grid_auto_flow": null,
      "grid_auto_rows": null,
      "grid_column": null,
      "grid_gap": null,
      "grid_row": null,
      "grid_template_areas": null,
      "grid_template_columns": null,
      "grid_template_rows": null,
      "height": null,
      "justify_content": null,
      "justify_items": null,
      "left": null,
      "margin": null,
      "max_height": null,
      "max_width": null,
      "min_height": null,
      "min_width": null,
      "object_fit": null,
      "object_position": null,
      "order": null,
      "overflow": null,
      "overflow_x": null,
      "overflow_y": null,
      "padding": null,
      "right": null,
      "top": null,
      "visibility": null,
      "width": null
     }
    },
    "b3fa66e3aeae4b5fac98db52e0e0c366": {
     "model_module": "@jupyter-widgets/controls",
     "model_name": "FloatProgressModel",
     "state": {
      "_dom_classes": [],
      "_model_module": "@jupyter-widgets/controls",
      "_model_module_version": "1.5.0",
      "_model_name": "FloatProgressModel",
      "_view_count": null,
      "_view_module": "@jupyter-widgets/controls",
      "_view_module_version": "1.5.0",
      "_view_name": "ProgressView",
      "bar_style": "success",
      "description": "100%",
      "description_tooltip": null,
      "layout": "IPY_MODEL_ebe7697c6af34cfc84e52ee512355fd5",
      "max": 800,
      "min": 0,
      "orientation": "horizontal",
      "style": "IPY_MODEL_880ae452309849899e2b6fa3c2a81c84",
      "value": 800
     }
    },
    "b928c11af1e54219ad084756b346af29": {
     "model_module": "@jupyter-widgets/base",
     "model_name": "LayoutModel",
     "state": {
      "_model_module": "@jupyter-widgets/base",
      "_model_module_version": "1.2.0",
      "_model_name": "LayoutModel",
      "_view_count": null,
      "_view_module": "@jupyter-widgets/base",
      "_view_module_version": "1.2.0",
      "_view_name": "LayoutView",
      "align_content": null,
      "align_items": null,
      "align_self": null,
      "border": null,
      "bottom": null,
      "display": null,
      "flex": null,
      "flex_flow": null,
      "grid_area": null,
      "grid_auto_columns": null,
      "grid_auto_flow": null,
      "grid_auto_rows": null,
      "grid_column": null,
      "grid_gap": null,
      "grid_row": null,
      "grid_template_areas": null,
      "grid_template_columns": null,
      "grid_template_rows": null,
      "height": null,
      "justify_content": null,
      "justify_items": null,
      "left": null,
      "margin": null,
      "max_height": null,
      "max_width": null,
      "min_height": null,
      "min_width": null,
      "object_fit": null,
      "object_position": null,
      "order": null,
      "overflow": null,
      "overflow_x": null,
      "overflow_y": null,
      "padding": null,
      "right": null,
      "top": null,
      "visibility": null,
      "width": null
     }
    },
    "c1bef6c44d404518b4d4bf23c71184eb": {
     "model_module": "@jupyter-widgets/base",
     "model_name": "LayoutModel",
     "state": {
      "_model_module": "@jupyter-widgets/base",
      "_model_module_version": "1.2.0",
      "_model_name": "LayoutModel",
      "_view_count": null,
      "_view_module": "@jupyter-widgets/base",
      "_view_module_version": "1.2.0",
      "_view_name": "LayoutView",
      "align_content": null,
      "align_items": null,
      "align_self": null,
      "border": null,
      "bottom": null,
      "display": null,
      "flex": null,
      "flex_flow": null,
      "grid_area": null,
      "grid_auto_columns": null,
      "grid_auto_flow": null,
      "grid_auto_rows": null,
      "grid_column": null,
      "grid_gap": null,
      "grid_row": null,
      "grid_template_areas": null,
      "grid_template_columns": null,
      "grid_template_rows": null,
      "height": null,
      "justify_content": null,
      "justify_items": null,
      "left": null,
      "margin": null,
      "max_height": null,
      "max_width": null,
      "min_height": null,
      "min_width": null,
      "object_fit": null,
      "object_position": null,
      "order": null,
      "overflow": null,
      "overflow_x": null,
      "overflow_y": null,
      "padding": null,
      "right": null,
      "top": null,
      "visibility": null,
      "width": null
     }
    },
    "c1cc8a018e894eceb769610f693b224c": {
     "model_module": "@jupyter-widgets/controls",
     "model_name": "FloatProgressModel",
     "state": {
      "_dom_classes": [],
      "_model_module": "@jupyter-widgets/controls",
      "_model_module_version": "1.5.0",
      "_model_name": "FloatProgressModel",
      "_view_count": null,
      "_view_module": "@jupyter-widgets/controls",
      "_view_module_version": "1.5.0",
      "_view_name": "ProgressView",
      "bar_style": "",
      "description": "  4%",
      "description_tooltip": null,
      "layout": "IPY_MODEL_ab535b1ad73c41e5bc4130cc8da46c79",
      "max": 100,
      "min": 0,
      "orientation": "horizontal",
      "style": "IPY_MODEL_16be75d42d9d4ab38981a1019ad50635",
      "value": 4
     }
    },
    "c7b7ed1f2a3f4006b2e4bb1cdd5df15d": {
     "model_module": "@jupyter-widgets/controls",
     "model_name": "ProgressStyleModel",
     "state": {
      "_model_module": "@jupyter-widgets/controls",
      "_model_module_version": "1.5.0",
      "_model_name": "ProgressStyleModel",
      "_view_count": null,
      "_view_module": "@jupyter-widgets/base",
      "_view_module_version": "1.2.0",
      "_view_name": "StyleView",
      "bar_color": null,
      "description_width": "initial"
     }
    },
    "d9ee2cd45b584eb7ac0dd31453b95430": {
     "model_module": "@jupyter-widgets/base",
     "model_name": "LayoutModel",
     "state": {
      "_model_module": "@jupyter-widgets/base",
      "_model_module_version": "1.2.0",
      "_model_name": "LayoutModel",
      "_view_count": null,
      "_view_module": "@jupyter-widgets/base",
      "_view_module_version": "1.2.0",
      "_view_name": "LayoutView",
      "align_content": null,
      "align_items": null,
      "align_self": null,
      "border": null,
      "bottom": null,
      "display": null,
      "flex": null,
      "flex_flow": null,
      "grid_area": null,
      "grid_auto_columns": null,
      "grid_auto_flow": null,
      "grid_auto_rows": null,
      "grid_column": null,
      "grid_gap": null,
      "grid_row": null,
      "grid_template_areas": null,
      "grid_template_columns": null,
      "grid_template_rows": null,
      "height": null,
      "justify_content": null,
      "justify_items": null,
      "left": null,
      "margin": null,
      "max_height": null,
      "max_width": null,
      "min_height": null,
      "min_width": null,
      "object_fit": null,
      "object_position": null,
      "order": null,
      "overflow": null,
      "overflow_x": null,
      "overflow_y": null,
      "padding": null,
      "right": null,
      "top": null,
      "visibility": null,
      "width": null
     }
    },
    "e748e64a8fa341a7a3349f79d25e86b0": {
     "model_module": "@jupyter-widgets/base",
     "model_name": "LayoutModel",
     "state": {
      "_model_module": "@jupyter-widgets/base",
      "_model_module_version": "1.2.0",
      "_model_name": "LayoutModel",
      "_view_count": null,
      "_view_module": "@jupyter-widgets/base",
      "_view_module_version": "1.2.0",
      "_view_name": "LayoutView",
      "align_content": null,
      "align_items": null,
      "align_self": null,
      "border": null,
      "bottom": null,
      "display": null,
      "flex": null,
      "flex_flow": null,
      "grid_area": null,
      "grid_auto_columns": null,
      "grid_auto_flow": null,
      "grid_auto_rows": null,
      "grid_column": null,
      "grid_gap": null,
      "grid_row": null,
      "grid_template_areas": null,
      "grid_template_columns": null,
      "grid_template_rows": null,
      "height": null,
      "justify_content": null,
      "justify_items": null,
      "left": null,
      "margin": null,
      "max_height": null,
      "max_width": null,
      "min_height": null,
      "min_width": null,
      "object_fit": null,
      "object_position": null,
      "order": null,
      "overflow": null,
      "overflow_x": null,
      "overflow_y": null,
      "padding": null,
      "right": null,
      "top": null,
      "visibility": null,
      "width": null
     }
    },
    "ebe7697c6af34cfc84e52ee512355fd5": {
     "model_module": "@jupyter-widgets/base",
     "model_name": "LayoutModel",
     "state": {
      "_model_module": "@jupyter-widgets/base",
      "_model_module_version": "1.2.0",
      "_model_name": "LayoutModel",
      "_view_count": null,
      "_view_module": "@jupyter-widgets/base",
      "_view_module_version": "1.2.0",
      "_view_name": "LayoutView",
      "align_content": null,
      "align_items": null,
      "align_self": null,
      "border": null,
      "bottom": null,
      "display": null,
      "flex": null,
      "flex_flow": null,
      "grid_area": null,
      "grid_auto_columns": null,
      "grid_auto_flow": null,
      "grid_auto_rows": null,
      "grid_column": null,
      "grid_gap": null,
      "grid_row": null,
      "grid_template_areas": null,
      "grid_template_columns": null,
      "grid_template_rows": null,
      "height": null,
      "justify_content": null,
      "justify_items": null,
      "left": null,
      "margin": null,
      "max_height": null,
      "max_width": null,
      "min_height": null,
      "min_width": null,
      "object_fit": null,
      "object_position": null,
      "order": null,
      "overflow": null,
      "overflow_x": null,
      "overflow_y": null,
      "padding": null,
      "right": null,
      "top": null,
      "visibility": null,
      "width": null
     }
    },
    "ecf22e7ed07445d9beab1ae7f9a84e8a": {
     "model_module": "@jupyter-widgets/controls",
     "model_name": "FloatProgressModel",
     "state": {
      "_dom_classes": [],
      "_model_module": "@jupyter-widgets/controls",
      "_model_module_version": "1.5.0",
      "_model_name": "FloatProgressModel",
      "_view_count": null,
      "_view_module": "@jupyter-widgets/controls",
      "_view_module_version": "1.5.0",
      "_view_name": "ProgressView",
      "bar_style": "success",
      "description": "100%",
      "description_tooltip": null,
      "layout": "IPY_MODEL_8c78bae6020c4437a5092442b5c6a199",
      "max": 800,
      "min": 0,
      "orientation": "horizontal",
      "style": "IPY_MODEL_c7b7ed1f2a3f4006b2e4bb1cdd5df15d",
      "value": 800
     }
    },
    "f9e38f051f9940c1bfc1d33e359a9273": {
     "model_module": "@jupyter-widgets/controls",
     "model_name": "DescriptionStyleModel",
     "state": {
      "_model_module": "@jupyter-widgets/controls",
      "_model_module_version": "1.5.0",
      "_model_name": "DescriptionStyleModel",
      "_view_count": null,
      "_view_module": "@jupyter-widgets/base",
      "_view_module_version": "1.2.0",
      "_view_name": "StyleView",
      "description_width": ""
     }
    }
   }
  }
 },
 "nbformat": 4,
 "nbformat_minor": 1
}
